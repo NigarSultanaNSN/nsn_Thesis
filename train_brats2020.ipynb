{
 "cells": [
  {
   "cell_type": "code",
   "execution_count": 1,
   "id": "b6f583fc",
   "metadata": {},
   "outputs": [
    {
     "name": "stdout",
     "output_type": "stream",
     "text": [
      "Segmentation Models: using `tf.keras` framework.\n"
     ]
    },
    {
     "data": {
      "image/png": "[encoded data removed]",
      "text/plain": [
       "<Figure size 864x576 with 4 Axes>"
      ]
     },
     "metadata": {
      "needs_background": "light"
     },
     "output_type": "display_data"
    }
   ],
   "source": [
    "import os\n",
    "import numpy as np\n",
    "from custom_datagen import imageLoader\n",
    "from tensorflow import keras\n",
    "from matplotlib import pyplot as plt\n",
    "import glob\n",
    "import random\n",
    "import segmentation_models_3D as sm"
   ]
  },
  {
   "cell_type": "code",
   "execution_count": 2,
   "id": "bc5e8edf",
   "metadata": {},
   "outputs": [],
   "source": [
    "train_img_dir = \"BraTS2020_TrainingData/input_data_128/train/images/\"\n",
    "train_mask_dir = \"BraTS2020_TrainingData/input_data_128/train/masks/\""
   ]
  },
  {
   "cell_type": "code",
   "execution_count": 3,
   "id": "3f73f642",
   "metadata": {},
   "outputs": [],
   "source": [
    "img_list = os.listdir(train_img_dir)\n",
    "msk_list = os.listdir(train_mask_dir)"
   ]
  },
  {
   "cell_type": "code",
   "execution_count": 4,
   "id": "55106178",
   "metadata": {},
   "outputs": [],
   "source": [
    "num_images = len(os.listdir(train_img_dir))"
   ]
  },
  {
   "cell_type": "code",
   "execution_count": 5,
   "id": "17b148c2",
   "metadata": {},
   "outputs": [],
   "source": [
    "img_num = random.randint(0, num_images-1)\n",
    "test_img = np.load(train_img_dir + img_list[img_num])\n",
    "test_mask = np.load(train_mask_dir + msk_list[img_num])\n",
    "test_mask = np.argmax(test_mask, axis=3)"
   ]
  },
  {
   "cell_type": "code",
   "execution_count": 6,
   "id": "2007592e",
   "metadata": {},
   "outputs": [
    {
     "data": {
      "text/plain": [
       "<Figure size 864x576 with 0 Axes>"
      ]
     },
     "execution_count": 6,
     "metadata": {},
     "output_type": "execute_result"
    },
    {
     "data": {
      "text/plain": [
       "<Figure size 864x576 with 0 Axes>"
      ]
     },
     "metadata": {},
     "output_type": "display_data"
    }
   ],
   "source": [
    "n_slice = random.randint(0, test_mask.shape[2])\n",
    "plt.figure(figsize=(12, 8))"
   ]
  },
  {
   "cell_type": "code",
   "execution_count": 7,
   "id": "f7d65d89",
   "metadata": {},
   "outputs": [
    {
     "data": {
      "text/plain": [
       "Text(0.5, 1.0, 'Image t1ce')"
      ]
     },
     "execution_count": 7,
     "metadata": {},
     "output_type": "execute_result"
    },
    {
     "data": {
      "image/png": "[encoded data removed]",
      "text/plain": [
       "<Figure size 432x288 with 1 Axes>"
      ]
     },
     "metadata": {
      "needs_background": "light"
     },
     "output_type": "display_data"
    }
   ],
   "source": [
    "plt.subplot(222)\n",
    "plt.imshow(test_img[:, :, n_slice, 1], cmap='gray')\n",
    "plt.title('Image t1ce')"
   ]
  },
  {
   "cell_type": "code",
   "execution_count": 8,
   "id": "fc3c79f7",
   "metadata": {},
   "outputs": [
    {
     "data": {
      "text/plain": [
       "Text(0.5, 1.0, 'Image t2')"
      ]
     },
     "execution_count": 8,
     "metadata": {},
     "output_type": "execute_result"
    },
    {
     "data": {
      "image/png": "[encoded data removed]",
      "text/plain": [
       "<Figure size 432x288 with 1 Axes>"
      ]
     },
     "metadata": {
      "needs_background": "light"
     },
     "output_type": "display_data"
    }
   ],
   "source": [
    "plt.subplot(223)\n",
    "plt.imshow(test_img[:, :, n_slice, 2], cmap='gray')\n",
    "plt.title('Image t2')"
   ]
  },
  {
   "cell_type": "code",
   "execution_count": 9,
   "id": "b52603b6",
   "metadata": {},
   "outputs": [
    {
     "data": {
      "image/png": "[encoded data removed]",
      "text/plain": [
       "<Figure size 432x288 with 1 Axes>"
      ]
     },
     "metadata": {
      "needs_background": "light"
     },
     "output_type": "display_data"
    }
   ],
   "source": [
    "plt.subplot(224)\n",
    "plt.imshow(test_mask[:, :, n_slice])\n",
    "plt.title('Mask')\n",
    "plt.show()"
   ]
  },
  {
   "cell_type": "code",
   "execution_count": 10,
   "id": "ec799813",
   "metadata": {},
   "outputs": [
    {
     "name": "stdout",
     "output_type": "stream",
     "text": [
      "0\n",
      "1\n",
      "2\n",
      "3\n",
      "4\n",
      "5\n",
      "6\n",
      "7\n",
      "8\n",
      "9\n",
      "10\n",
      "11\n",
      "12\n",
      "13\n",
      "14\n",
      "15\n",
      "16\n",
      "17\n",
      "18\n",
      "19\n",
      "20\n",
      "21\n",
      "22\n",
      "23\n",
      "24\n",
      "25\n",
      "26\n",
      "27\n",
      "28\n",
      "29\n",
      "30\n",
      "31\n",
      "32\n",
      "33\n",
      "34\n",
      "35\n",
      "36\n",
      "37\n",
      "38\n",
      "39\n",
      "40\n",
      "41\n",
      "42\n",
      "43\n",
      "44\n",
      "45\n",
      "46\n",
      "47\n",
      "48\n",
      "49\n",
      "50\n",
      "51\n",
      "52\n",
      "53\n",
      "54\n",
      "55\n",
      "56\n",
      "57\n",
      "58\n",
      "59\n",
      "60\n",
      "61\n",
      "62\n",
      "63\n",
      "64\n",
      "65\n",
      "66\n",
      "67\n",
      "68\n",
      "69\n",
      "70\n",
      "71\n",
      "72\n",
      "73\n",
      "74\n",
      "75\n",
      "76\n",
      "77\n",
      "78\n",
      "79\n",
      "80\n",
      "81\n",
      "82\n",
      "83\n",
      "84\n",
      "85\n",
      "86\n",
      "87\n",
      "88\n",
      "89\n",
      "90\n",
      "91\n",
      "92\n",
      "93\n",
      "94\n",
      "95\n",
      "96\n",
      "97\n",
      "98\n",
      "99\n",
      "100\n",
      "101\n",
      "102\n",
      "103\n",
      "104\n",
      "105\n",
      "106\n",
      "107\n",
      "108\n",
      "109\n",
      "110\n",
      "111\n",
      "112\n",
      "113\n",
      "114\n",
      "115\n",
      "116\n",
      "117\n",
      "118\n",
      "119\n",
      "120\n",
      "121\n",
      "122\n",
      "123\n",
      "124\n",
      "125\n",
      "126\n",
      "127\n",
      "128\n",
      "129\n",
      "130\n",
      "131\n",
      "132\n",
      "133\n",
      "134\n",
      "135\n",
      "136\n",
      "137\n",
      "138\n",
      "139\n",
      "140\n",
      "141\n",
      "142\n",
      "143\n",
      "144\n",
      "145\n",
      "146\n",
      "147\n",
      "148\n",
      "149\n",
      "150\n",
      "151\n",
      "152\n",
      "153\n",
      "154\n",
      "155\n",
      "156\n",
      "157\n",
      "158\n",
      "159\n",
      "160\n",
      "161\n",
      "162\n",
      "163\n",
      "164\n",
      "165\n",
      "166\n",
      "167\n",
      "168\n",
      "169\n",
      "170\n",
      "171\n",
      "172\n",
      "173\n",
      "174\n",
      "175\n",
      "176\n",
      "177\n",
      "178\n",
      "179\n",
      "180\n",
      "181\n",
      "182\n",
      "183\n",
      "184\n",
      "185\n",
      "186\n",
      "187\n",
      "188\n",
      "189\n",
      "190\n",
      "191\n",
      "192\n",
      "193\n",
      "194\n",
      "195\n",
      "196\n",
      "197\n",
      "198\n",
      "199\n",
      "200\n",
      "201\n",
      "202\n",
      "203\n",
      "204\n",
      "205\n",
      "206\n",
      "207\n",
      "208\n",
      "209\n",
      "210\n",
      "211\n",
      "212\n",
      "213\n",
      "214\n",
      "215\n",
      "216\n",
      "217\n",
      "218\n",
      "219\n",
      "220\n",
      "221\n",
      "222\n",
      "223\n",
      "224\n",
      "225\n",
      "226\n",
      "227\n",
      "228\n",
      "229\n",
      "230\n",
      "231\n",
      "232\n",
      "233\n",
      "234\n",
      "235\n",
      "236\n",
      "237\n",
      "238\n",
      "239\n",
      "240\n",
      "241\n",
      "242\n",
      "243\n",
      "244\n",
      "245\n",
      "246\n",
      "247\n",
      "248\n",
      "249\n",
      "250\n",
      "251\n",
      "252\n",
      "253\n",
      "254\n",
      "255\n",
      "256\n",
      "257\n"
     ]
    }
   ],
   "source": [
    "import pandas as pd\n",
    "\n",
    "columns = ['0','1', '2', '3']\n",
    "df = pd.DataFrame(columns=columns)\n",
    "train_mask_list = sorted(glob.glob('BraTS2020_TrainingData/input_data_128/train/masks/*.npy'))\n",
    "for img in range(len(train_mask_list)):\n",
    "    print(img)\n",
    "    temp_image=np.load(train_mask_list[img])\n",
    "    temp_image = np.argmax(temp_image, axis=3)\n",
    "    val, counts = np.unique(temp_image, return_counts=True)\n",
    "    zipped = zip(columns, counts)\n",
    "    conts_dict = dict(zipped)\n",
    "    \n",
    "    df = df.append(conts_dict, ignore_index=True)\n",
    "\n",
    "label_0 = df['0'].sum()\n",
    "label_1 = df['1'].sum()\n",
    "label_2 = df['1'].sum()\n",
    "label_3 = df['3'].sum()\n",
    "total_labels = label_0 + label_1 + label_2 + label_3\n",
    "n_classes = 4\n",
    "\n",
    "# Class weights claculation: n_samples / (n_classes * n_samples_for_class)\n",
    "wt0 = round((total_labels/(n_classes*label_0)), 2) #round to 2 decimals\n",
    "wt1 = round((total_labels/(n_classes*label_1)), 2)\n",
    "wt2 = round((total_labels/(n_classes*label_2)), 2)\n",
    "wt3 = round((total_labels/(n_classes*label_3)), 2)"
   ]
  },
  {
   "cell_type": "code",
   "execution_count": 11,
   "id": "1786ccf8",
   "metadata": {},
   "outputs": [],
   "source": [
    "train_img_dir = \"BraTS2020_TrainingData/input_data_128/train/images/\"\n",
    "train_mask_dir = \"BraTS2020_TrainingData/input_data_128/train/masks/\""
   ]
  },
  {
   "cell_type": "code",
   "execution_count": 12,
   "id": "3614b749",
   "metadata": {},
   "outputs": [],
   "source": [
    "val_img_dir = \"BraTS2020_TrainingData/input_data_128/val/images/\"\n",
    "val_mask_dir = \"BraTS2020_TrainingData/input_data_128/val/masks/\""
   ]
  },
  {
   "cell_type": "code",
   "execution_count": 13,
   "id": "0d129325",
   "metadata": {},
   "outputs": [],
   "source": [
    "train_img_list = os.listdir(train_img_dir)\n",
    "train_mask_list = os.listdir(train_mask_dir)"
   ]
  },
  {
   "cell_type": "code",
   "execution_count": 14,
   "id": "501f2e58",
   "metadata": {},
   "outputs": [],
   "source": [
    "val_img_list = os.listdir(val_img_dir)\n",
    "val_mask_list = os.listdir(val_mask_dir)"
   ]
  },
  {
   "cell_type": "code",
   "execution_count": 15,
   "id": "4e8a85b3",
   "metadata": {},
   "outputs": [],
   "source": [
    "batch_size = 2"
   ]
  },
  {
   "cell_type": "code",
   "execution_count": 16,
   "id": "4d706dcf",
   "metadata": {},
   "outputs": [],
   "source": [
    "train_img_datagen = imageLoader(train_img_dir, train_img_list, train_mask_dir, train_mask_list, batch_size)"
   ]
  },
  {
   "cell_type": "code",
   "execution_count": 17,
   "id": "945978f6",
   "metadata": {},
   "outputs": [],
   "source": [
    "val_img_datagen = imageLoader(val_img_dir, val_img_list, val_mask_dir, val_mask_list, batch_size)"
   ]
  },
  {
   "cell_type": "code",
   "execution_count": 18,
   "id": "7a7e5c3c",
   "metadata": {},
   "outputs": [],
   "source": [
    "img, msk = train_img_datagen.__next__()"
   ]
  },
  {
   "cell_type": "code",
   "execution_count": 19,
   "id": "1cd5c4fb",
   "metadata": {},
   "outputs": [
    {
     "name": "stdout",
     "output_type": "stream",
     "text": [
      "(128, 128, 128, 3)\n",
      "(128, 128, 128, 4)\n"
     ]
    }
   ],
   "source": [
    "img_num = random.randint(0, img.shape[0]-1)\n",
    "test_img = img[img_num]\n",
    "print(test_img.shape)\n",
    "test_mask = msk[img_num]\n",
    "print(test_mask.shape)\n",
    "test_mask = np.argmax(test_mask, axis=3)"
   ]
  },
  {
   "cell_type": "code",
   "execution_count": 20,
   "id": "39474e5e",
   "metadata": {},
   "outputs": [
    {
     "data": {
      "text/plain": [
       "<Figure size 864x576 with 0 Axes>"
      ]
     },
     "execution_count": 20,
     "metadata": {},
     "output_type": "execute_result"
    },
    {
     "data": {
      "text/plain": [
       "<Figure size 864x576 with 0 Axes>"
      ]
     },
     "metadata": {},
     "output_type": "display_data"
    }
   ],
   "source": [
    "n_slice = random.randint(0, test_mask.shape[2])\n",
    "plt.figure(figsize=(12, 8))"
   ]
  },
  {
   "cell_type": "code",
   "execution_count": 21,
   "id": "f7f07b31",
   "metadata": {},
   "outputs": [
    {
     "data": {
      "text/plain": [
       "Text(0.5, 1.0, 'Image flair')"
      ]
     },
     "execution_count": 21,
     "metadata": {},
     "output_type": "execute_result"
    },
    {
     "data": {
      "image/png": "[encoded data removed]",
      "text/plain": [
       "<Figure size 432x288 with 1 Axes>"
      ]
     },
     "metadata": {
      "needs_background": "light"
     },
     "output_type": "display_data"
    }
   ],
   "source": [
    "plt.subplot(221)\n",
    "plt.imshow(test_img[:, :, n_slice, 0], cmap='gray')\n",
    "plt.title('Image flair')"
   ]
  },
  {
   "cell_type": "code",
   "execution_count": 22,
   "id": "c5819314",
   "metadata": {},
   "outputs": [
    {
     "data": {
      "text/plain": [
       "Text(0.5, 1.0, 'Image t1ce')"
      ]
     },
     "execution_count": 22,
     "metadata": {},
     "output_type": "execute_result"
    },
    {
     "data": {
      "image/png": "[encoded data removed]",
      "text/plain": [
       "<Figure size 432x288 with 1 Axes>"
      ]
     },
     "metadata": {
      "needs_background": "light"
     },
     "output_type": "display_data"
    }
   ],
   "source": [
    "plt.subplot(222)\n",
    "plt.imshow(test_img[:, :, n_slice, 1], cmap='gray')\n",
    "plt.title('Image t1ce')"
   ]
  },
  {
   "cell_type": "code",
   "execution_count": 23,
   "id": "5ee12165",
   "metadata": {},
   "outputs": [
    {
     "data": {
      "text/plain": [
       "Text(0.5, 1.0, 'Image t2')"
      ]
     },
     "execution_count": 23,
     "metadata": {},
     "output_type": "execute_result"
    },
    {
     "data": {
      "image/png": "[encoded data removed]",
      "text/plain": [
       "<Figure size 432x288 with 1 Axes>"
      ]
     },
     "metadata": {
      "needs_background": "light"
     },
     "output_type": "display_data"
    }
   ],
   "source": [
    "plt.subplot(223)\n",
    "plt.imshow(test_img[:, :, n_slice, 2], cmap='gray')\n",
    "plt.title('Image t2')"
   ]
  },
  {
   "cell_type": "code",
   "execution_count": 24,
   "id": "f6315471",
   "metadata": {},
   "outputs": [
    {
     "data": {
      "image/png": "[encoded data removed]",
      "text/plain": [
       "<Figure size 432x288 with 1 Axes>"
      ]
     },
     "metadata": {
      "needs_background": "light"
     },
     "output_type": "display_data"
    }
   ],
   "source": [
    "plt.subplot(224)\n",
    "plt.imshow(test_mask[:, :, n_slice])\n",
    "plt.title('Mask')\n",
    "plt.show()"
   ]
  },
  {
   "cell_type": "code",
   "execution_count": 25,
   "id": "bbd98dc3",
   "metadata": {},
   "outputs": [],
   "source": [
    "# Define loss, metrics and optimizer to be used for training\n",
    "wt0, wt1, wt2, wt3 = 0.25,0.25,0.25,0.25"
   ]
  },
  {
   "cell_type": "code",
   "execution_count": 26,
   "id": "0d33e171",
   "metadata": {},
   "outputs": [],
   "source": [
    "from tensorflow import keras\n",
    "\n",
    "dice_loss = sm.losses.DiceLoss(class_weights=np.array([wt0, wt1, wt2, wt3])) \n",
    "focal_loss = sm.losses.CategoricalFocalLoss()\n",
    "total_loss = dice_loss + (1 * focal_loss)\n",
    "\n",
    "metrics = ['accuracy', sm.metrics.IOUScore(threshold=0.5)]\n",
    "\n",
    "LR = 0.0001\n",
    "optim = keras.optimizers.Adam(LR)"
   ]
  },
  {
   "cell_type": "code",
   "execution_count": 27,
   "id": "d1f9acb2",
   "metadata": {},
   "outputs": [],
   "source": [
    "steps_per_epoch = len(train_img_list)//batch_size\n",
    "val_steps_per_epoch = len(val_img_list)//batch_size"
   ]
  },
  {
   "cell_type": "code",
   "execution_count": 28,
   "id": "0064fa9c",
   "metadata": {},
   "outputs": [
    {
     "name": "stdout",
     "output_type": "stream",
     "text": [
      "Model: \"model\"\n",
      "__________________________________________________________________________________________________\n",
      "Layer (type)                    Output Shape         Param #     Connected to                     \n",
      "==================================================================================================\n",
      "input_1 (InputLayer)            [(None, 128, 128, 12 0                                            \n",
      "__________________________________________________________________________________________________\n",
      "conv3d (Conv3D)                 (None, 128, 128, 128 1312        input_1[0][0]                    \n",
      "__________________________________________________________________________________________________\n",
      "dropout (Dropout)               (None, 128, 128, 128 0           conv3d[0][0]                     \n",
      "__________________________________________________________________________________________________\n",
      "conv3d_1 (Conv3D)               (None, 128, 128, 128 6928        dropout[0][0]                    \n",
      "__________________________________________________________________________________________________\n",
      "max_pooling3d (MaxPooling3D)    (None, 64, 64, 64, 1 0           conv3d_1[0][0]                   \n",
      "__________________________________________________________________________________________________\n",
      "conv3d_2 (Conv3D)               (None, 64, 64, 64, 3 13856       max_pooling3d[0][0]              \n",
      "__________________________________________________________________________________________________\n",
      "dropout_1 (Dropout)             (None, 64, 64, 64, 3 0           conv3d_2[0][0]                   \n",
      "__________________________________________________________________________________________________\n",
      "conv3d_3 (Conv3D)               (None, 64, 64, 64, 3 27680       dropout_1[0][0]                  \n",
      "__________________________________________________________________________________________________\n",
      "max_pooling3d_1 (MaxPooling3D)  (None, 32, 32, 32, 3 0           conv3d_3[0][0]                   \n",
      "__________________________________________________________________________________________________\n",
      "conv3d_4 (Conv3D)               (None, 32, 32, 32, 6 55360       max_pooling3d_1[0][0]            \n",
      "__________________________________________________________________________________________________\n",
      "dropout_2 (Dropout)             (None, 32, 32, 32, 6 0           conv3d_4[0][0]                   \n",
      "__________________________________________________________________________________________________\n",
      "conv3d_5 (Conv3D)               (None, 32, 32, 32, 6 110656      dropout_2[0][0]                  \n",
      "__________________________________________________________________________________________________\n",
      "max_pooling3d_2 (MaxPooling3D)  (None, 16, 16, 16, 6 0           conv3d_5[0][0]                   \n",
      "__________________________________________________________________________________________________\n",
      "conv3d_6 (Conv3D)               (None, 16, 16, 16, 1 221312      max_pooling3d_2[0][0]            \n",
      "__________________________________________________________________________________________________\n",
      "dropout_3 (Dropout)             (None, 16, 16, 16, 1 0           conv3d_6[0][0]                   \n",
      "__________________________________________________________________________________________________\n",
      "conv3d_7 (Conv3D)               (None, 16, 16, 16, 1 442496      dropout_3[0][0]                  \n",
      "__________________________________________________________________________________________________\n",
      "max_pooling3d_3 (MaxPooling3D)  (None, 8, 8, 8, 128) 0           conv3d_7[0][0]                   \n",
      "__________________________________________________________________________________________________\n",
      "conv3d_8 (Conv3D)               (None, 8, 8, 8, 256) 884992      max_pooling3d_3[0][0]            \n",
      "__________________________________________________________________________________________________\n",
      "dropout_4 (Dropout)             (None, 8, 8, 8, 256) 0           conv3d_8[0][0]                   \n",
      "__________________________________________________________________________________________________\n",
      "conv3d_9 (Conv3D)               (None, 8, 8, 8, 256) 1769728     dropout_4[0][0]                  \n",
      "__________________________________________________________________________________________________\n",
      "conv3d_transpose (Conv3DTranspo (None, 16, 16, 16, 1 262272      conv3d_9[0][0]                   \n",
      "__________________________________________________________________________________________________\n",
      "concatenate (Concatenate)       (None, 16, 16, 16, 2 0           conv3d_transpose[0][0]           \n",
      "                                                                 conv3d_7[0][0]                   \n",
      "__________________________________________________________________________________________________\n",
      "conv3d_10 (Conv3D)              (None, 16, 16, 16, 1 884864      concatenate[0][0]                \n",
      "__________________________________________________________________________________________________\n",
      "dropout_5 (Dropout)             (None, 16, 16, 16, 1 0           conv3d_10[0][0]                  \n",
      "__________________________________________________________________________________________________\n",
      "conv3d_11 (Conv3D)              (None, 16, 16, 16, 1 442496      dropout_5[0][0]                  \n",
      "__________________________________________________________________________________________________\n",
      "conv3d_transpose_1 (Conv3DTrans (None, 32, 32, 32, 6 65600       conv3d_11[0][0]                  \n",
      "__________________________________________________________________________________________________\n",
      "concatenate_1 (Concatenate)     (None, 32, 32, 32, 1 0           conv3d_transpose_1[0][0]         \n",
      "                                                                 conv3d_5[0][0]                   \n",
      "__________________________________________________________________________________________________\n",
      "conv3d_12 (Conv3D)              (None, 32, 32, 32, 6 221248      concatenate_1[0][0]              \n",
      "__________________________________________________________________________________________________\n",
      "dropout_6 (Dropout)             (None, 32, 32, 32, 6 0           conv3d_12[0][0]                  \n",
      "__________________________________________________________________________________________________\n",
      "conv3d_13 (Conv3D)              (None, 32, 32, 32, 6 110656      dropout_6[0][0]                  \n",
      "__________________________________________________________________________________________________\n",
      "conv3d_transpose_2 (Conv3DTrans (None, 64, 64, 64, 3 16416       conv3d_13[0][0]                  \n",
      "__________________________________________________________________________________________________\n",
      "concatenate_2 (Concatenate)     (None, 64, 64, 64, 6 0           conv3d_transpose_2[0][0]         \n",
      "                                                                 conv3d_3[0][0]                   \n",
      "__________________________________________________________________________________________________\n",
      "conv3d_14 (Conv3D)              (None, 64, 64, 64, 3 55328       concatenate_2[0][0]              \n",
      "__________________________________________________________________________________________________\n",
      "dropout_7 (Dropout)             (None, 64, 64, 64, 3 0           conv3d_14[0][0]                  \n",
      "__________________________________________________________________________________________________\n",
      "conv3d_15 (Conv3D)              (None, 64, 64, 64, 3 27680       dropout_7[0][0]                  \n",
      "__________________________________________________________________________________________________\n",
      "conv3d_transpose_3 (Conv3DTrans (None, 128, 128, 128 4112        conv3d_15[0][0]                  \n",
      "__________________________________________________________________________________________________\n",
      "concatenate_3 (Concatenate)     (None, 128, 128, 128 0           conv3d_transpose_3[0][0]         \n",
      "                                                                 conv3d_1[0][0]                   \n",
      "__________________________________________________________________________________________________\n",
      "conv3d_16 (Conv3D)              (None, 128, 128, 128 13840       concatenate_3[0][0]              \n",
      "__________________________________________________________________________________________________\n",
      "dropout_8 (Dropout)             (None, 128, 128, 128 0           conv3d_16[0][0]                  \n",
      "__________________________________________________________________________________________________\n",
      "conv3d_17 (Conv3D)              (None, 128, 128, 128 6928        dropout_8[0][0]                  \n",
      "__________________________________________________________________________________________________\n",
      "conv3d_18 (Conv3D)              (None, 128, 128, 128 68          conv3d_17[0][0]                  \n",
      "==================================================================================================\n",
      "Total params: 5,645,828\n",
      "Trainable params: 5,645,828\n",
      "Non-trainable params: 0\n",
      "__________________________________________________________________________________________________\n",
      "(None, 128, 128, 128, 3)\n",
      "(None, 128, 128, 128, 4)\n"
     ]
    }
   ],
   "source": [
    "from simple_3d_unet import simple_unet_model"
   ]
  },
  {
   "cell_type": "code",
   "execution_count": 30,
   "id": "e26f569d",
   "metadata": {},
   "outputs": [
    {
     "name": "stdout",
     "output_type": "stream",
     "text": [
      "Model: \"model_2\"\n",
      "__________________________________________________________________________________________________\n",
      "Layer (type)                    Output Shape         Param #     Connected to                     \n",
      "==================================================================================================\n",
      "input_3 (InputLayer)            [(None, 128, 128, 12 0                                            \n",
      "__________________________________________________________________________________________________\n",
      "conv3d_38 (Conv3D)              (None, 128, 128, 128 1312        input_3[0][0]                    \n",
      "__________________________________________________________________________________________________\n",
      "dropout_18 (Dropout)            (None, 128, 128, 128 0           conv3d_38[0][0]                  \n",
      "__________________________________________________________________________________________________\n",
      "conv3d_39 (Conv3D)              (None, 128, 128, 128 6928        dropout_18[0][0]                 \n",
      "__________________________________________________________________________________________________\n",
      "max_pooling3d_8 (MaxPooling3D)  (None, 64, 64, 64, 1 0           conv3d_39[0][0]                  \n",
      "__________________________________________________________________________________________________\n",
      "conv3d_40 (Conv3D)              (None, 64, 64, 64, 3 13856       max_pooling3d_8[0][0]            \n",
      "__________________________________________________________________________________________________\n",
      "dropout_19 (Dropout)            (None, 64, 64, 64, 3 0           conv3d_40[0][0]                  \n",
      "__________________________________________________________________________________________________\n",
      "conv3d_41 (Conv3D)              (None, 64, 64, 64, 3 27680       dropout_19[0][0]                 \n",
      "__________________________________________________________________________________________________\n",
      "max_pooling3d_9 (MaxPooling3D)  (None, 32, 32, 32, 3 0           conv3d_41[0][0]                  \n",
      "__________________________________________________________________________________________________\n",
      "conv3d_42 (Conv3D)              (None, 32, 32, 32, 6 55360       max_pooling3d_9[0][0]            \n",
      "__________________________________________________________________________________________________\n",
      "dropout_20 (Dropout)            (None, 32, 32, 32, 6 0           conv3d_42[0][0]                  \n",
      "__________________________________________________________________________________________________\n",
      "conv3d_43 (Conv3D)              (None, 32, 32, 32, 6 110656      dropout_20[0][0]                 \n",
      "__________________________________________________________________________________________________\n",
      "max_pooling3d_10 (MaxPooling3D) (None, 16, 16, 16, 6 0           conv3d_43[0][0]                  \n",
      "__________________________________________________________________________________________________\n",
      "conv3d_44 (Conv3D)              (None, 16, 16, 16, 1 221312      max_pooling3d_10[0][0]           \n",
      "__________________________________________________________________________________________________\n",
      "dropout_21 (Dropout)            (None, 16, 16, 16, 1 0           conv3d_44[0][0]                  \n",
      "__________________________________________________________________________________________________\n",
      "conv3d_45 (Conv3D)              (None, 16, 16, 16, 1 442496      dropout_21[0][0]                 \n",
      "__________________________________________________________________________________________________\n",
      "max_pooling3d_11 (MaxPooling3D) (None, 8, 8, 8, 128) 0           conv3d_45[0][0]                  \n",
      "__________________________________________________________________________________________________\n",
      "conv3d_46 (Conv3D)              (None, 8, 8, 8, 256) 884992      max_pooling3d_11[0][0]           \n",
      "__________________________________________________________________________________________________\n",
      "dropout_22 (Dropout)            (None, 8, 8, 8, 256) 0           conv3d_46[0][0]                  \n",
      "__________________________________________________________________________________________________\n",
      "conv3d_47 (Conv3D)              (None, 8, 8, 8, 256) 1769728     dropout_22[0][0]                 \n",
      "__________________________________________________________________________________________________\n",
      "conv3d_transpose_8 (Conv3DTrans (None, 16, 16, 16, 1 262272      conv3d_47[0][0]                  \n",
      "__________________________________________________________________________________________________\n",
      "concatenate_8 (Concatenate)     (None, 16, 16, 16, 2 0           conv3d_transpose_8[0][0]         \n",
      "                                                                 conv3d_45[0][0]                  \n",
      "__________________________________________________________________________________________________\n",
      "conv3d_48 (Conv3D)              (None, 16, 16, 16, 1 884864      concatenate_8[0][0]              \n",
      "__________________________________________________________________________________________________\n",
      "dropout_23 (Dropout)            (None, 16, 16, 16, 1 0           conv3d_48[0][0]                  \n",
      "__________________________________________________________________________________________________\n",
      "conv3d_49 (Conv3D)              (None, 16, 16, 16, 1 442496      dropout_23[0][0]                 \n",
      "__________________________________________________________________________________________________\n",
      "conv3d_transpose_9 (Conv3DTrans (None, 32, 32, 32, 6 65600       conv3d_49[0][0]                  \n",
      "__________________________________________________________________________________________________\n",
      "concatenate_9 (Concatenate)     (None, 32, 32, 32, 1 0           conv3d_transpose_9[0][0]         \n",
      "                                                                 conv3d_43[0][0]                  \n",
      "__________________________________________________________________________________________________\n",
      "conv3d_50 (Conv3D)              (None, 32, 32, 32, 6 221248      concatenate_9[0][0]              \n",
      "__________________________________________________________________________________________________\n",
      "dropout_24 (Dropout)            (None, 32, 32, 32, 6 0           conv3d_50[0][0]                  \n",
      "__________________________________________________________________________________________________\n",
      "conv3d_51 (Conv3D)              (None, 32, 32, 32, 6 110656      dropout_24[0][0]                 \n",
      "__________________________________________________________________________________________________\n",
      "conv3d_transpose_10 (Conv3DTran (None, 64, 64, 64, 3 16416       conv3d_51[0][0]                  \n",
      "__________________________________________________________________________________________________\n",
      "concatenate_10 (Concatenate)    (None, 64, 64, 64, 6 0           conv3d_transpose_10[0][0]        \n",
      "                                                                 conv3d_41[0][0]                  \n",
      "__________________________________________________________________________________________________\n",
      "conv3d_52 (Conv3D)              (None, 64, 64, 64, 3 55328       concatenate_10[0][0]             \n",
      "__________________________________________________________________________________________________\n",
      "dropout_25 (Dropout)            (None, 64, 64, 64, 3 0           conv3d_52[0][0]                  \n",
      "__________________________________________________________________________________________________\n",
      "conv3d_53 (Conv3D)              (None, 64, 64, 64, 3 27680       dropout_25[0][0]                 \n",
      "__________________________________________________________________________________________________\n",
      "conv3d_transpose_11 (Conv3DTran (None, 128, 128, 128 4112        conv3d_53[0][0]                  \n",
      "__________________________________________________________________________________________________\n",
      "concatenate_11 (Concatenate)    (None, 128, 128, 128 0           conv3d_transpose_11[0][0]        \n",
      "                                                                 conv3d_39[0][0]                  \n",
      "__________________________________________________________________________________________________\n",
      "conv3d_54 (Conv3D)              (None, 128, 128, 128 13840       concatenate_11[0][0]             \n",
      "__________________________________________________________________________________________________\n",
      "dropout_26 (Dropout)            (None, 128, 128, 128 0           conv3d_54[0][0]                  \n",
      "__________________________________________________________________________________________________\n",
      "conv3d_55 (Conv3D)              (None, 128, 128, 128 6928        dropout_26[0][0]                 \n",
      "__________________________________________________________________________________________________\n",
      "conv3d_56 (Conv3D)              (None, 128, 128, 128 68          conv3d_55[0][0]                  \n",
      "==================================================================================================\n",
      "Total params: 5,645,828\n",
      "Trainable params: 5,645,828\n",
      "Non-trainable params: 0\n",
      "__________________________________________________________________________________________________\n",
      "Model: \"model_2\"\n",
      "__________________________________________________________________________________________________\n",
      "Layer (type)                    Output Shape         Param #     Connected to                     \n",
      "==================================================================================================\n",
      "input_3 (InputLayer)            [(None, 128, 128, 12 0                                            \n",
      "__________________________________________________________________________________________________\n",
      "conv3d_38 (Conv3D)              (None, 128, 128, 128 1312        input_3[0][0]                    \n",
      "__________________________________________________________________________________________________\n",
      "dropout_18 (Dropout)            (None, 128, 128, 128 0           conv3d_38[0][0]                  \n",
      "__________________________________________________________________________________________________\n",
      "conv3d_39 (Conv3D)              (None, 128, 128, 128 6928        dropout_18[0][0]                 \n",
      "__________________________________________________________________________________________________\n",
      "max_pooling3d_8 (MaxPooling3D)  (None, 64, 64, 64, 1 0           conv3d_39[0][0]                  \n",
      "__________________________________________________________________________________________________\n",
      "conv3d_40 (Conv3D)              (None, 64, 64, 64, 3 13856       max_pooling3d_8[0][0]            \n",
      "__________________________________________________________________________________________________\n",
      "dropout_19 (Dropout)            (None, 64, 64, 64, 3 0           conv3d_40[0][0]                  \n",
      "__________________________________________________________________________________________________\n",
      "conv3d_41 (Conv3D)              (None, 64, 64, 64, 3 27680       dropout_19[0][0]                 \n",
      "__________________________________________________________________________________________________\n",
      "max_pooling3d_9 (MaxPooling3D)  (None, 32, 32, 32, 3 0           conv3d_41[0][0]                  \n",
      "__________________________________________________________________________________________________\n",
      "conv3d_42 (Conv3D)              (None, 32, 32, 32, 6 55360       max_pooling3d_9[0][0]            \n",
      "__________________________________________________________________________________________________\n",
      "dropout_20 (Dropout)            (None, 32, 32, 32, 6 0           conv3d_42[0][0]                  \n",
      "__________________________________________________________________________________________________\n",
      "conv3d_43 (Conv3D)              (None, 32, 32, 32, 6 110656      dropout_20[0][0]                 \n",
      "__________________________________________________________________________________________________\n",
      "max_pooling3d_10 (MaxPooling3D) (None, 16, 16, 16, 6 0           conv3d_43[0][0]                  \n",
      "__________________________________________________________________________________________________\n",
      "conv3d_44 (Conv3D)              (None, 16, 16, 16, 1 221312      max_pooling3d_10[0][0]           \n",
      "__________________________________________________________________________________________________\n",
      "dropout_21 (Dropout)            (None, 16, 16, 16, 1 0           conv3d_44[0][0]                  \n",
      "__________________________________________________________________________________________________\n",
      "conv3d_45 (Conv3D)              (None, 16, 16, 16, 1 442496      dropout_21[0][0]                 \n",
      "__________________________________________________________________________________________________\n",
      "max_pooling3d_11 (MaxPooling3D) (None, 8, 8, 8, 128) 0           conv3d_45[0][0]                  \n",
      "__________________________________________________________________________________________________\n",
      "conv3d_46 (Conv3D)              (None, 8, 8, 8, 256) 884992      max_pooling3d_11[0][0]           \n",
      "__________________________________________________________________________________________________\n",
      "dropout_22 (Dropout)            (None, 8, 8, 8, 256) 0           conv3d_46[0][0]                  \n",
      "__________________________________________________________________________________________________\n",
      "conv3d_47 (Conv3D)              (None, 8, 8, 8, 256) 1769728     dropout_22[0][0]                 \n",
      "__________________________________________________________________________________________________\n",
      "conv3d_transpose_8 (Conv3DTrans (None, 16, 16, 16, 1 262272      conv3d_47[0][0]                  \n",
      "__________________________________________________________________________________________________\n",
      "concatenate_8 (Concatenate)     (None, 16, 16, 16, 2 0           conv3d_transpose_8[0][0]         \n",
      "                                                                 conv3d_45[0][0]                  \n",
      "__________________________________________________________________________________________________\n",
      "conv3d_48 (Conv3D)              (None, 16, 16, 16, 1 884864      concatenate_8[0][0]              \n",
      "__________________________________________________________________________________________________\n",
      "dropout_23 (Dropout)            (None, 16, 16, 16, 1 0           conv3d_48[0][0]                  \n",
      "__________________________________________________________________________________________________\n",
      "conv3d_49 (Conv3D)              (None, 16, 16, 16, 1 442496      dropout_23[0][0]                 \n",
      "__________________________________________________________________________________________________\n",
      "conv3d_transpose_9 (Conv3DTrans (None, 32, 32, 32, 6 65600       conv3d_49[0][0]                  \n",
      "__________________________________________________________________________________________________\n",
      "concatenate_9 (Concatenate)     (None, 32, 32, 32, 1 0           conv3d_transpose_9[0][0]         \n",
      "                                                                 conv3d_43[0][0]                  \n",
      "__________________________________________________________________________________________________\n",
      "conv3d_50 (Conv3D)              (None, 32, 32, 32, 6 221248      concatenate_9[0][0]              \n",
      "__________________________________________________________________________________________________\n",
      "dropout_24 (Dropout)            (None, 32, 32, 32, 6 0           conv3d_50[0][0]                  \n",
      "__________________________________________________________________________________________________\n",
      "conv3d_51 (Conv3D)              (None, 32, 32, 32, 6 110656      dropout_24[0][0]                 \n",
      "__________________________________________________________________________________________________\n",
      "conv3d_transpose_10 (Conv3DTran (None, 64, 64, 64, 3 16416       conv3d_51[0][0]                  \n",
      "__________________________________________________________________________________________________\n",
      "concatenate_10 (Concatenate)    (None, 64, 64, 64, 6 0           conv3d_transpose_10[0][0]        \n",
      "                                                                 conv3d_41[0][0]                  \n",
      "__________________________________________________________________________________________________\n",
      "conv3d_52 (Conv3D)              (None, 64, 64, 64, 3 55328       concatenate_10[0][0]             \n",
      "__________________________________________________________________________________________________\n",
      "dropout_25 (Dropout)            (None, 64, 64, 64, 3 0           conv3d_52[0][0]                  \n",
      "__________________________________________________________________________________________________\n",
      "conv3d_53 (Conv3D)              (None, 64, 64, 64, 3 27680       dropout_25[0][0]                 \n",
      "__________________________________________________________________________________________________\n",
      "conv3d_transpose_11 (Conv3DTran (None, 128, 128, 128 4112        conv3d_53[0][0]                  \n",
      "__________________________________________________________________________________________________\n",
      "concatenate_11 (Concatenate)    (None, 128, 128, 128 0           conv3d_transpose_11[0][0]        \n",
      "                                                                 conv3d_39[0][0]                  \n",
      "__________________________________________________________________________________________________\n",
      "conv3d_54 (Conv3D)              (None, 128, 128, 128 13840       concatenate_11[0][0]             \n",
      "__________________________________________________________________________________________________\n",
      "dropout_26 (Dropout)            (None, 128, 128, 128 0           conv3d_54[0][0]                  \n",
      "__________________________________________________________________________________________________\n",
      "conv3d_55 (Conv3D)              (None, 128, 128, 128 6928        dropout_26[0][0]                 \n",
      "__________________________________________________________________________________________________\n",
      "conv3d_56 (Conv3D)              (None, 128, 128, 128 68          conv3d_55[0][0]                  \n",
      "==================================================================================================\n",
      "Total params: 5,645,828\n",
      "Trainable params: 5,645,828\n",
      "Non-trainable params: 0\n",
      "__________________________________________________________________________________________________\n",
      "None\n",
      "(None, 128, 128, 128, 3)\n",
      "(None, 128, 128, 128, 4)\n"
     ]
    },
    {
     "name": "stdout",
     "output_type": "stream",
     "text": [
      "Epoch 1/5\n",
      "70/70 [==============================] - 65s 898ms/step - loss: 1.1211 - accuracy: 0.7982 - iou_score: 0.1978 - val_loss: 0.9921 - val_accuracy: 0.9476 - val_iou_score: 0.2367\n",
      "Epoch 2/5\n",
      "70/70 [==============================] - 63s 896ms/step - loss: 0.9875 - accuracy: 0.9517 - iou_score: 0.2379 - val_loss: 0.9920 - val_accuracy: 0.9476 - val_iou_score: 0.2368\n",
      "Epoch 3/5\n",
      "70/70 [==============================] - 63s 900ms/step - loss: 0.9875 - accuracy: 0.9518 - iou_score: 0.2379 - val_loss: 0.9920 - val_accuracy: 0.9476 - val_iou_score: 0.2368\n",
      "Epoch 4/5\n",
      "70/70 [==============================] - 63s 897ms/step - loss: 0.9875 - accuracy: 0.9519 - iou_score: 0.2380 - val_loss: 0.9920 - val_accuracy: 0.9476 - val_iou_score: 0.2369\n",
      "Epoch 5/5\n",
      "70/70 [==============================] - 63s 899ms/step - loss: 0.9875 - accuracy: 0.9519 - iou_score: 0.2380 - val_loss: 0.9920 - val_accuracy: 0.9476 - val_iou_score: 0.2369\n"
     ]
    }
   ],
   "source": [
    "epo = 5\n",
    "verbs = 1\n",
    "\n",
    "model = simple_unet_model(IMG_HEIGHT=128, \n",
    "                          IMG_WIDTH=128,\n",
    "                          IMG_DEPTH=128,\n",
    "                          IMG_CHANNELS=3, \n",
    "                          num_classes=4)\n",
    "\n",
    "model.compile(optimizer = optim, loss=total_loss, metrics=metrics)\n",
    "print(model.summary())\n",
    "\n",
    "print(model.input_shape)\n",
    "print(model.output_shape)\n",
    "\n",
    "history = model.fit(train_img_datagen,\n",
    "          steps_per_epoch=steps_per_epoch,\n",
    "          epochs= epo,\n",
    "          verbose= verbs,\n",
    "          validation_data=val_img_datagen,\n",
    "          validation_steps=val_steps_per_epoch,\n",
    "          )\n",
    "\n",
    "model.save(\"Models/brats_3d_5Epochs.hdf5\")"
   ]
  },
  {
   "cell_type": "code",
   "execution_count": 31,
   "id": "d06de868",
   "metadata": {},
   "outputs": [
    {
     "data": {
      "image/png": "[encoded data removed]",
      "text/plain": [
       "<Figure size 432x288 with 1 Axes>"
      ]
     },
     "metadata": {
      "needs_background": "light"
     },
     "output_type": "display_data"
    }
   ],
   "source": [
    "loss = history.history['loss']\n",
    "val_loss = history.history['val_loss']\n",
    "epochs = range(1, len(loss) + 1)\n",
    "plt.plot(epochs, loss, 'y', label='Training loss')\n",
    "plt.plot(epochs, val_loss, 'r', label='Validation loss')\n",
    "plt.title('Training and validation loss')\n",
    "plt.xlabel('Epochs')\n",
    "plt.ylabel('Loss')\n",
    "plt.legend()\n",
    "plt.show()"
   ]
  },
  {
   "cell_type": "code",
   "execution_count": 32,
   "id": "3cb25b4a",
   "metadata": {},
   "outputs": [],
   "source": [
    "acc = history.history['accuracy']\n",
    "val_acc = history.history['val_accuracy']"
   ]
  },
  {
   "cell_type": "code",
   "execution_count": 33,
   "id": "41179004",
   "metadata": {},
   "outputs": [
    {
     "data": {
      "image/png": "[encoded data removed]",
      "text/plain": [
       "<Figure size 432x288 with 1 Axes>"
      ]
     },
     "metadata": {
      "needs_background": "light"
     },
     "output_type": "display_data"
    }
   ],
   "source": [
    "plt.plot(epochs, acc, 'y', label='Training accuracy')\n",
    "plt.plot(epochs, val_acc, 'r', label='Validation accuracy')\n",
    "plt.title('Training and validation accuracy')\n",
    "plt.xlabel('Epochs')\n",
    "plt.ylabel('Accuracy')\n",
    "plt.legend()\n",
    "plt.show()"
   ]
  },
  {
   "cell_type": "code",
   "execution_count": 34,
   "id": "1b53d7c8",
   "metadata": {},
   "outputs": [],
   "source": [
    "from tensorflow.keras.models import load_model"
   ]
  },
  {
   "cell_type": "code",
   "execution_count": 35,
   "id": "775e434f",
   "metadata": {},
   "outputs": [
    {
     "name": "stdout",
     "output_type": "stream",
     "text": [
      "WARNING:tensorflow:Error in loading the saved optimizer state. As a result, your model is starting with a freshly initialized optimizer.\n"
     ]
    }
   ],
   "source": [
    "my_model = load_model(\"Models/brats_3d_5Epochs.hdf5\", custom_objects={'dice_loss_plus_1focal_loss': total_loss,\n",
    "                                      'iou_score':sm.metrics.IOUScore(threshold=0.5)})"
   ]
  },
  {
   "cell_type": "code",
   "execution_count": 36,
   "id": "1c147bfe",
   "metadata": {},
   "outputs": [
    {
     "name": "stdout",
     "output_type": "stream",
     "text": [
      "Enter a Epoch number: 1\n",
      "Enter the verbose number: 1\n",
      "70/70 [==============================] - 64s 902ms/step - loss: 0.9874 - accuracy: 0.9520 - iou_score: 0.2380 - val_loss: 0.9920 - val_accuracy: 0.9476 - val_iou_score: 0.2369\n"
     ]
    }
   ],
   "source": [
    "epo_again = int(input(\"Enter a Epoch number: \"))\n",
    "verbs_again = int(input(\"Enter the verbose number: \"))\n",
    "\n",
    "history2 = my_model.fit(train_img_datagen, steps_per_epoch=steps_per_epoch, epochs=epo_again, verbose=verbs_again, validation_data=val_img_datagen, validation_steps=val_steps_per_epoch,)"
   ]
  },
  {
   "cell_type": "code",
   "execution_count": 42,
   "id": "f6ac3f14",
   "metadata": {},
   "outputs": [],
   "source": [
    "my_model = load_model(\"Models/brats2020_3d_Unet_101_Epochs.hdf5\", compile=False)"
   ]
  },
  {
   "cell_type": "code",
   "execution_count": 43,
   "id": "de10f49c",
   "metadata": {},
   "outputs": [],
   "source": [
    "from tensorflow.keras.metrics import MeanIoU"
   ]
  },
  {
   "cell_type": "code",
   "execution_count": 44,
   "id": "ad2c5b7b",
   "metadata": {},
   "outputs": [],
   "source": [
    "batch_size = 8\n",
    "test_img_datagen = imageLoader(val_img_dir, val_img_list, val_mask_dir, val_mask_list, batch_size)"
   ]
  },
  {
   "cell_type": "code",
   "execution_count": 40,
   "id": "0ec5ad3d",
   "metadata": {},
   "outputs": [],
   "source": [
    "test_image_batch, test_mask_batch = test_img_datagen.__next__()"
   ]
  },
  {
   "cell_type": "code",
   "execution_count": 41,
   "id": "f56aea24",
   "metadata": {},
   "outputs": [
    {
     "ename": "ResourceExhaustedError",
     "evalue": " OOM when allocating tensor with shape[8,32,128,128,128] and type float on /job:localhost/replica:0/task:0/device:GPU:0 by allocator GPU_0_bfc\n\t [[node model_2/concatenate_11/concat (defined at \\AppData\\Local\\Temp/ipykernel_10616/344926308.py:2) ]]\nHint: If you want to see a list of allocated tensors when OOM happens, add report_tensor_allocations_upon_oom to RunOptions for current allocation info.\n [Op:__inference_predict_function_14103]\n\nFunction call stack:\npredict_function\n",
     "output_type": "error",
     "traceback": [
      "\u001b[1;31m---------------------------------------------------------------------------\u001b[0m",
      "\u001b[1;31mResourceExhaustedError\u001b[0m                    Traceback (most recent call last)",
      "\u001b[1;32m~\\AppData\\Local\\Temp/ipykernel_10616/344926308.py\u001b[0m in \u001b[0;36m<module>\u001b[1;34m\u001b[0m\n\u001b[0;32m      1\u001b[0m \u001b[0mtest_mask_batch_argmax\u001b[0m \u001b[1;33m=\u001b[0m \u001b[0mnp\u001b[0m\u001b[1;33m.\u001b[0m\u001b[0margmax\u001b[0m\u001b[1;33m(\u001b[0m\u001b[0mtest_mask_batch\u001b[0m\u001b[1;33m,\u001b[0m \u001b[0maxis\u001b[0m\u001b[1;33m=\u001b[0m\u001b[1;36m4\u001b[0m\u001b[1;33m)\u001b[0m\u001b[1;33m\u001b[0m\u001b[1;33m\u001b[0m\u001b[0m\n\u001b[1;32m----> 2\u001b[1;33m \u001b[0mtest_pred_batch\u001b[0m \u001b[1;33m=\u001b[0m \u001b[0mmy_model\u001b[0m\u001b[1;33m.\u001b[0m\u001b[0mpredict\u001b[0m\u001b[1;33m(\u001b[0m\u001b[0mtest_image_batch\u001b[0m\u001b[1;33m)\u001b[0m\u001b[1;33m\u001b[0m\u001b[1;33m\u001b[0m\u001b[0m\n\u001b[0m\u001b[0;32m      3\u001b[0m \u001b[0mtest_pred_batch_argmax\u001b[0m \u001b[1;33m=\u001b[0m \u001b[0mnp\u001b[0m\u001b[1;33m.\u001b[0m\u001b[0margmax\u001b[0m\u001b[1;33m(\u001b[0m\u001b[0mtest_pred_batch\u001b[0m\u001b[1;33m,\u001b[0m \u001b[0maxis\u001b[0m\u001b[1;33m=\u001b[0m\u001b[1;36m4\u001b[0m\u001b[1;33m)\u001b[0m\u001b[1;33m\u001b[0m\u001b[1;33m\u001b[0m\u001b[0m\n",
      "\u001b[1;32m~\\anaconda3\\envs\\tf_gpu\\lib\\site-packages\\tensorflow\\python\\keras\\engine\\training.py\u001b[0m in \u001b[0;36mpredict\u001b[1;34m(self, x, batch_size, verbose, steps, callbacks, max_queue_size, workers, use_multiprocessing)\u001b[0m\n\u001b[0;32m   1725\u001b[0m           \u001b[1;32mfor\u001b[0m \u001b[0mstep\u001b[0m \u001b[1;32min\u001b[0m \u001b[0mdata_handler\u001b[0m\u001b[1;33m.\u001b[0m\u001b[0msteps\u001b[0m\u001b[1;33m(\u001b[0m\u001b[1;33m)\u001b[0m\u001b[1;33m:\u001b[0m\u001b[1;33m\u001b[0m\u001b[1;33m\u001b[0m\u001b[0m\n\u001b[0;32m   1726\u001b[0m             \u001b[0mcallbacks\u001b[0m\u001b[1;33m.\u001b[0m\u001b[0mon_predict_batch_begin\u001b[0m\u001b[1;33m(\u001b[0m\u001b[0mstep\u001b[0m\u001b[1;33m)\u001b[0m\u001b[1;33m\u001b[0m\u001b[1;33m\u001b[0m\u001b[0m\n\u001b[1;32m-> 1727\u001b[1;33m             \u001b[0mtmp_batch_outputs\u001b[0m \u001b[1;33m=\u001b[0m \u001b[0mself\u001b[0m\u001b[1;33m.\u001b[0m\u001b[0mpredict_function\u001b[0m\u001b[1;33m(\u001b[0m\u001b[0miterator\u001b[0m\u001b[1;33m)\u001b[0m\u001b[1;33m\u001b[0m\u001b[1;33m\u001b[0m\u001b[0m\n\u001b[0m\u001b[0;32m   1728\u001b[0m             \u001b[1;32mif\u001b[0m \u001b[0mdata_handler\u001b[0m\u001b[1;33m.\u001b[0m\u001b[0mshould_sync\u001b[0m\u001b[1;33m:\u001b[0m\u001b[1;33m\u001b[0m\u001b[1;33m\u001b[0m\u001b[0m\n\u001b[0;32m   1729\u001b[0m               \u001b[0mcontext\u001b[0m\u001b[1;33m.\u001b[0m\u001b[0masync_wait\u001b[0m\u001b[1;33m(\u001b[0m\u001b[1;33m)\u001b[0m\u001b[1;33m\u001b[0m\u001b[1;33m\u001b[0m\u001b[0m\n",
      "\u001b[1;32m~\\anaconda3\\envs\\tf_gpu\\lib\\site-packages\\tensorflow\\python\\eager\\def_function.py\u001b[0m in \u001b[0;36m__call__\u001b[1;34m(self, *args, **kwds)\u001b[0m\n\u001b[0;32m    887\u001b[0m \u001b[1;33m\u001b[0m\u001b[0m\n\u001b[0;32m    888\u001b[0m       \u001b[1;32mwith\u001b[0m \u001b[0mOptionalXlaContext\u001b[0m\u001b[1;33m(\u001b[0m\u001b[0mself\u001b[0m\u001b[1;33m.\u001b[0m\u001b[0m_jit_compile\u001b[0m\u001b[1;33m)\u001b[0m\u001b[1;33m:\u001b[0m\u001b[1;33m\u001b[0m\u001b[1;33m\u001b[0m\u001b[0m\n\u001b[1;32m--> 889\u001b[1;33m         \u001b[0mresult\u001b[0m \u001b[1;33m=\u001b[0m \u001b[0mself\u001b[0m\u001b[1;33m.\u001b[0m\u001b[0m_call\u001b[0m\u001b[1;33m(\u001b[0m\u001b[1;33m*\u001b[0m\u001b[0margs\u001b[0m\u001b[1;33m,\u001b[0m \u001b[1;33m**\u001b[0m\u001b[0mkwds\u001b[0m\u001b[1;33m)\u001b[0m\u001b[1;33m\u001b[0m\u001b[1;33m\u001b[0m\u001b[0m\n\u001b[0m\u001b[0;32m    890\u001b[0m \u001b[1;33m\u001b[0m\u001b[0m\n\u001b[0;32m    891\u001b[0m       \u001b[0mnew_tracing_count\u001b[0m \u001b[1;33m=\u001b[0m \u001b[0mself\u001b[0m\u001b[1;33m.\u001b[0m\u001b[0mexperimental_get_tracing_count\u001b[0m\u001b[1;33m(\u001b[0m\u001b[1;33m)\u001b[0m\u001b[1;33m\u001b[0m\u001b[1;33m\u001b[0m\u001b[0m\n",
      "\u001b[1;32m~\\anaconda3\\envs\\tf_gpu\\lib\\site-packages\\tensorflow\\python\\eager\\def_function.py\u001b[0m in \u001b[0;36m_call\u001b[1;34m(self, *args, **kwds)\u001b[0m\n\u001b[0;32m    954\u001b[0m               *args, **kwds)\n\u001b[0;32m    955\u001b[0m       \u001b[1;31m# If we did not create any variables the trace we have is good enough.\u001b[0m\u001b[1;33m\u001b[0m\u001b[1;33m\u001b[0m\u001b[0m\n\u001b[1;32m--> 956\u001b[1;33m       return self._concrete_stateful_fn._call_flat(\n\u001b[0m\u001b[0;32m    957\u001b[0m           filtered_flat_args, self._concrete_stateful_fn.captured_inputs)  # pylint: disable=protected-access\n\u001b[0;32m    958\u001b[0m \u001b[1;33m\u001b[0m\u001b[0m\n",
      "\u001b[1;32m~\\anaconda3\\envs\\tf_gpu\\lib\\site-packages\\tensorflow\\python\\eager\\function.py\u001b[0m in \u001b[0;36m_call_flat\u001b[1;34m(self, args, captured_inputs, cancellation_manager)\u001b[0m\n\u001b[0;32m   1958\u001b[0m         and executing_eagerly):\n\u001b[0;32m   1959\u001b[0m       \u001b[1;31m# No tape is watching; skip to running the function.\u001b[0m\u001b[1;33m\u001b[0m\u001b[1;33m\u001b[0m\u001b[0m\n\u001b[1;32m-> 1960\u001b[1;33m       return self._build_call_outputs(self._inference_function.call(\n\u001b[0m\u001b[0;32m   1961\u001b[0m           ctx, args, cancellation_manager=cancellation_manager))\n\u001b[0;32m   1962\u001b[0m     forward_backward = self._select_forward_and_backward_functions(\n",
      "\u001b[1;32m~\\anaconda3\\envs\\tf_gpu\\lib\\site-packages\\tensorflow\\python\\eager\\function.py\u001b[0m in \u001b[0;36mcall\u001b[1;34m(self, ctx, args, cancellation_manager)\u001b[0m\n\u001b[0;32m    589\u001b[0m       \u001b[1;32mwith\u001b[0m \u001b[0m_InterpolateFunctionError\u001b[0m\u001b[1;33m(\u001b[0m\u001b[0mself\u001b[0m\u001b[1;33m)\u001b[0m\u001b[1;33m:\u001b[0m\u001b[1;33m\u001b[0m\u001b[1;33m\u001b[0m\u001b[0m\n\u001b[0;32m    590\u001b[0m         \u001b[1;32mif\u001b[0m \u001b[0mcancellation_manager\u001b[0m \u001b[1;32mis\u001b[0m \u001b[1;32mNone\u001b[0m\u001b[1;33m:\u001b[0m\u001b[1;33m\u001b[0m\u001b[1;33m\u001b[0m\u001b[0m\n\u001b[1;32m--> 591\u001b[1;33m           outputs = execute.execute(\n\u001b[0m\u001b[0;32m    592\u001b[0m               \u001b[0mstr\u001b[0m\u001b[1;33m(\u001b[0m\u001b[0mself\u001b[0m\u001b[1;33m.\u001b[0m\u001b[0msignature\u001b[0m\u001b[1;33m.\u001b[0m\u001b[0mname\u001b[0m\u001b[1;33m)\u001b[0m\u001b[1;33m,\u001b[0m\u001b[1;33m\u001b[0m\u001b[1;33m\u001b[0m\u001b[0m\n\u001b[0;32m    593\u001b[0m               \u001b[0mnum_outputs\u001b[0m\u001b[1;33m=\u001b[0m\u001b[0mself\u001b[0m\u001b[1;33m.\u001b[0m\u001b[0m_num_outputs\u001b[0m\u001b[1;33m,\u001b[0m\u001b[1;33m\u001b[0m\u001b[1;33m\u001b[0m\u001b[0m\n",
      "\u001b[1;32m~\\anaconda3\\envs\\tf_gpu\\lib\\site-packages\\tensorflow\\python\\eager\\execute.py\u001b[0m in \u001b[0;36mquick_execute\u001b[1;34m(op_name, num_outputs, inputs, attrs, ctx, name)\u001b[0m\n\u001b[0;32m     57\u001b[0m   \u001b[1;32mtry\u001b[0m\u001b[1;33m:\u001b[0m\u001b[1;33m\u001b[0m\u001b[1;33m\u001b[0m\u001b[0m\n\u001b[0;32m     58\u001b[0m     \u001b[0mctx\u001b[0m\u001b[1;33m.\u001b[0m\u001b[0mensure_initialized\u001b[0m\u001b[1;33m(\u001b[0m\u001b[1;33m)\u001b[0m\u001b[1;33m\u001b[0m\u001b[1;33m\u001b[0m\u001b[0m\n\u001b[1;32m---> 59\u001b[1;33m     tensors = pywrap_tfe.TFE_Py_Execute(ctx._handle, device_name, op_name,\n\u001b[0m\u001b[0;32m     60\u001b[0m                                         inputs, attrs, num_outputs)\n\u001b[0;32m     61\u001b[0m   \u001b[1;32mexcept\u001b[0m \u001b[0mcore\u001b[0m\u001b[1;33m.\u001b[0m\u001b[0m_NotOkStatusException\u001b[0m \u001b[1;32mas\u001b[0m \u001b[0me\u001b[0m\u001b[1;33m:\u001b[0m\u001b[1;33m\u001b[0m\u001b[1;33m\u001b[0m\u001b[0m\n",
      "\u001b[1;31mResourceExhaustedError\u001b[0m:  OOM when allocating tensor with shape[8,32,128,128,128] and type float on /job:localhost/replica:0/task:0/device:GPU:0 by allocator GPU_0_bfc\n\t [[node model_2/concatenate_11/concat (defined at \\AppData\\Local\\Temp/ipykernel_10616/344926308.py:2) ]]\nHint: If you want to see a list of allocated tensors when OOM happens, add report_tensor_allocations_upon_oom to RunOptions for current allocation info.\n [Op:__inference_predict_function_14103]\n\nFunction call stack:\npredict_function\n"
     ]
    }
   ],
   "source": [
    "test_mask_batch_argmax = np.argmax(test_mask_batch, axis=4)\n",
    "test_pred_batch = my_model.predict(test_image_batch)\n",
    "test_pred_batch_argmax = np.argmax(test_pred_batch, axis=4)"
   ]
  },
  {
   "cell_type": "code",
   "execution_count": null,
   "id": "2193f229",
   "metadata": {},
   "outputs": [],
   "source": [
    "n_classes = 4\n",
    "IOU_keras = MeanIoU(num_classes=n_classes)  \n",
    "IOU_keras.update_state(test_pred_batch_argmax, test_mask_batch_argmax)\n",
    "print(f\"Mean IoU = {IOU_keras.result().numpy()}\")"
   ]
  },
  {
   "cell_type": "code",
   "execution_count": null,
   "id": "77ded70d",
   "metadata": {},
   "outputs": [],
   "source": [
    "img_num = int(input(\"Select the image number: \")) # 41\n",
    "\n",
    "test_img = np.load(\"BraTS2020_TrainingData/input_data_128/val/images/image_\"+str(img_num)+\".npy\")\n",
    "\n",
    "test_mask = np.load(\"BraTS2020_TrainingData/input_data_128/val/masks/mask_\"+str(img_num)+\".npy\")\n",
    "test_mask_argmax = np.argmax(test_mask, axis=3)\n",
    "\n",
    "test_img_input = np.expand_dims(test_img, axis=0)\n",
    "test_prediction = my_model.predict(test_img_input)\n",
    "test_prediction_argmax = np.argmax(test_prediction, axis=4)[0, :, :, :]"
   ]
  },
  {
   "cell_type": "code",
   "execution_count": null,
   "id": "f9213720",
   "metadata": {},
   "outputs": [],
   "source": [
    "from matplotlib import pyplot as plt\n",
    "import random"
   ]
  },
  {
   "cell_type": "code",
   "execution_count": null,
   "id": "c55d2585",
   "metadata": {},
   "outputs": [],
   "source": [
    "n_slice = 55\n",
    "plt.figure(figsize=(12, 8))\n",
    "plt.subplot(231)\n",
    "plt.title('Testing Image')\n",
    "plt.imshow(test_img[:,:,n_slice,1], cmap='gray')\n",
    "plt.subplot(232)\n",
    "plt.title('Testing Label')\n",
    "plt.imshow(test_mask_argmax[:,:,n_slice])\n",
    "plt.subplot(233)\n",
    "plt.title('Prediction on test image')\n",
    "plt.imshow(test_prediction_argmax[:,:, n_slice])\n",
    "plt.show()"
   ]
  }
 ],
 "metadata": {
  "kernelspec": {
   "display_name": "Python 3 (ipykernel)",
   "language": "python",
   "name": "python3"
  },
  "language_info": {
   "codemirror_mode": {
    "name": "ipython",
    "version": 3
   },
   "file_extension": ".py",
   "mimetype": "text/x-python",
   "name": "python",
   "nbconvert_exporter": "python",
   "pygments_lexer": "ipython3",
   "version": "3.9.7"
  }
 },
 "nbformat": 4,
 "nbformat_minor": 5
}
