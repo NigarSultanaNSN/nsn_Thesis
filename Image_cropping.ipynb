{
  "cells": [
    {
      "cell_type": "code",
      "execution_count": null,
      "id": "144b4002",
      "metadata": {
        "id": "144b4002"
      },
      "outputs": [],
      "source": [
        "import os\n",
        "import cv2\n",
        "import numpy as np\n",
        "import matplotlib.pyplot as plt\n",
        "import numpy as np\n",
        "import nibabel as nib\n",
        "import glob\n",
        "import matplotlib.pyplot as plt\n",
        "import random\n",
        "from sklearn.preprocessing import MinMaxScaler\n",
        "scaler= MinMaxScaler()"
      ]
    },
    {
      "cell_type": "code",
      "execution_count": null,
      "id": "fbde8e97",
      "metadata": {
        "id": "fbde8e97"
      },
      "outputs": [],
      "source": [
        "data_path= \"D:/MRI/Sample Dataset/BraTS20_Training_151\"\n",
        "test_image_T1= nib.load(data_path + \"/BraTS20_Training_151_t1.nii\").get_fdata()"
      ]
    },
    {
      "cell_type": "code",
      "execution_count": null,
      "id": "1ab01c99",
      "metadata": {
        "id": "1ab01c99",
        "outputId": "4b26f26d-e1fb-4b6c-c79e-4c27ca6cac74"
      },
      "outputs": [
        {
          "data": {
            "image/png": "[encoded data removed]",
            "text/plain": [
              "<Figure size 432x288 with 1 Axes>"
            ]
          },
          "metadata": {
            "needs_background": "light"
          },
          "output_type": "display_data"
        }
      ],
      "source": [
        "n_slice = 104\n",
        "plt.imshow(test_image_T1[:,:,n_slice], cmap='gray')\n",
        "plt.title('Image T1')\n",
        "\n",
        "plt.show()"
      ]
    },
    {
      "cell_type": "code",
      "execution_count": null,
      "id": "431ffffa",
      "metadata": {
        "id": "431ffffa",
        "outputId": "27a6173b-3f44-4814-ec9e-3d46e1a9cedd"
      },
      "outputs": [
        {
          "data": {
            "text/plain": [
              "(240, 240)"
            ]
          },
          "execution_count": 115,
          "metadata": {},
          "output_type": "execute_result"
        }
      ],
      "source": [
        "img = test_image_T1[:,:,n_slice]\n",
        "img.shape"
      ]
    },
    {
      "cell_type": "code",
      "execution_count": null,
      "id": "07958036",
      "metadata": {
        "id": "07958036",
        "outputId": "652c43c9-e536-4bc4-c4be-45ddd56775cb"
      },
      "outputs": [
        {
          "data": {
            "image/png": "[encoded data removed]",
            "text/plain": [
              "<Figure size 432x288 with 1 Axes>"
            ]
          },
          "metadata": {
            "needs_background": "light"
          },
          "output_type": "display_data"
        }
      ],
      "source": [
        "image = np.where(img > 0, 1, 0)\n",
        "plt.imshow(image, interpolation='nearest')\n",
        "plt.show()"
      ]
    },
    {
      "cell_type": "code",
      "execution_count": null,
      "id": "524e59e5",
      "metadata": {
        "id": "524e59e5",
        "outputId": "cc4b7115-e40b-444a-df7e-6e4d7498ef2c"
      },
      "outputs": [
        {
          "name": "stdout",
          "output_type": "stream",
          "text": [
            "{1: [(slice(58, 180, None), slice(48, 197, None))]}\n"
          ]
        }
      ],
      "source": [
        "structure = np.array([\n",
        "    [1,1,1],\n",
        "    [1,1,1],\n",
        "    [1,1,1]\n",
        "])\n",
        "import scipy.ndimage.measurements as mnts\n",
        "bboxSlices = {}\n",
        "for i in range(1, image.max() + 1):\n",
        "    B = image.copy()\n",
        "    B[B != i] = 0\n",
        "\n",
        "    bboxSlices[i] = mnts.find_objects(mnts.label(B, structure=structure)[0])\n",
        "\n",
        "print(bboxSlices)"
      ]
    },
    {
      "cell_type": "code",
      "execution_count": null,
      "id": "b9ec8d05",
      "metadata": {
        "id": "b9ec8d05"
      },
      "outputs": [],
      "source": [
        "bboxes = []\n",
        "for bboxslices in bboxSlices[1]:\n",
        "    bbox = []\n",
        "    for slice in bboxslices:\n",
        "        bbox.append(slice.start)\n",
        "        bbox.append(slice.stop)\n",
        "    bboxes.append(bbox)"
      ]
    },
    {
      "cell_type": "code",
      "execution_count": null,
      "id": "6d8beb9a",
      "metadata": {
        "id": "6d8beb9a",
        "outputId": "31e1afe0-67e6-4c1b-ecf4-76a1aba329ae"
      },
      "outputs": [
        {
          "data": {
            "text/plain": [
              "[[58, 180, 48, 197]]"
            ]
          },
          "execution_count": 119,
          "metadata": {},
          "output_type": "execute_result"
        }
      ],
      "source": [
        "bboxes"
      ]
    },
    {
      "cell_type": "code",
      "execution_count": null,
      "id": "eb52454b",
      "metadata": {
        "id": "eb52454b"
      },
      "outputs": [],
      "source": [
        "bboxes_np = np.array(bboxes, dtype=np.float32)"
      ]
    },
    {
      "cell_type": "code",
      "execution_count": null,
      "id": "732dba5b",
      "metadata": {
        "id": "732dba5b",
        "outputId": "d80745e9-d43a-4684-bd40-8e568cec281f"
      },
      "outputs": [
        {
          "data": {
            "text/plain": [
              "array([[ 58., 180.,  48., 197.]], dtype=float32)"
            ]
          },
          "execution_count": 121,
          "metadata": {},
          "output_type": "execute_result"
        }
      ],
      "source": [
        "bboxes_np "
      ]
    },
    {
      "cell_type": "code",
      "execution_count": null,
      "id": "d1320e10",
      "metadata": {
        "id": "d1320e10"
      },
      "outputs": [],
      "source": [
        "ymin = np.min(bboxes_np[:,0])\n",
        "ymax = np.max(bboxes_np[:,1])\n",
        "xmin = np.min(bboxes_np[:,2])\n",
        "xmax = np.max(bboxes_np[:,3])"
      ]
    },
    {
      "cell_type": "code",
      "execution_count": null,
      "id": "78a6782a",
      "metadata": {
        "id": "78a6782a",
        "outputId": "3319cad8-0bc2-4d4b-9ee2-7c52ba6cf5c4"
      },
      "outputs": [
        {
          "name": "stdout",
          "output_type": "stream",
          "text": [
            "ymin= 58.0\n",
            "ymax= 180.0\n",
            "xmin= 48.0\n",
            "xmax= 197.0\n"
          ]
        }
      ],
      "source": [
        "print('ymin=', ymin)\n",
        "print('ymax=', ymax)\n",
        "print('xmin=', xmin)\n",
        "print('xmax=', xmax)"
      ]
    },
    {
      "cell_type": "code",
      "execution_count": null,
      "id": "9c9da683",
      "metadata": {
        "id": "9c9da683"
      },
      "outputs": [],
      "source": [
        "crop = image[int(ymin):int(ymax), int(xmin):int(xmax)]"
      ]
    },
    {
      "cell_type": "code",
      "execution_count": null,
      "id": "decc353f",
      "metadata": {
        "id": "decc353f",
        "outputId": "d2ce823c-afac-4c30-eace-8954e1bbf7a3"
      },
      "outputs": [
        {
          "data": {
            "image/png": "[encoded data removed]",
            "text/plain": [
              "<Figure size 432x288 with 1 Axes>"
            ]
          },
          "metadata": {
            "needs_background": "light"
          },
          "output_type": "display_data"
        }
      ],
      "source": [
        "plt.imshow(crop, interpolation='nearest')\n",
        "plt.show()"
      ]
    },
    {
      "cell_type": "code",
      "execution_count": null,
      "id": "8803f2b1",
      "metadata": {
        "id": "8803f2b1",
        "outputId": "554ce5f5-4199-40ad-da51-1753263ec302"
      },
      "outputs": [
        {
          "data": {
            "image/png": "[encoded data removed]",
            "text/plain": [
              "<Figure size 432x288 with 1 Axes>"
            ]
          },
          "metadata": {
            "needs_background": "light"
          },
          "output_type": "display_data"
        }
      ],
      "source": [
        "test_mask= nib.load(data_path + \"/BraTS20_Training_151_seg.nii\").get_fdata()\n",
        "seg_img = test_mask[:,:,n_slice]\n",
        "crop_seg = seg_img[int(ymin):int(ymax), int(xmin):int(xmax)]\n",
        "plt.imshow(crop_seg, interpolation='nearest')\n",
        "plt.show()"
      ]
    }
  ],
  "metadata": {
    "kernelspec": {
      "display_name": "Python 3",
      "language": "python",
      "name": "python3"
    },
    "language_info": {
      "codemirror_mode": {
        "name": "ipython",
        "version": 3
      },
      "file_extension": ".py",
      "mimetype": "text/x-python",
      "name": "python",
      "nbconvert_exporter": "python",
      "pygments_lexer": "ipython3",
      "version": "3.7.6"
    },
    "colab": {
      "name": "Image-cropping.ipynb",
      "provenance": []
    }
  },
  "nbformat": 4,
  "nbformat_minor": 5
}