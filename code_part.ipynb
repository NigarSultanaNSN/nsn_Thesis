{
  "nbformat": 4,
  "nbformat_minor": 0,
  "metadata": {
    "colab": {
      "name": "code_part",
      "provenance": [],
      "collapsed_sections": []
    },
    "kernelspec": {
      "name": "python3",
      "display_name": "Python 3"
    },
    "language_info": {
      "name": "python"
    }
  },
  "cells": [
    {
      "cell_type": "code",
      "metadata": {
        "id": "-KDVCiNi3G3r"
      },
      "source": [
        "import numpy as np\n",
        "import nibabel as nib\n",
        "import glob\n",
        "from tensorflow.keras.utils import to_categorical\n",
        "import matplotlib.pyplot as plt\n",
        "from tifffile import imsave\n",
        "\n",
        "from sklearn.preprocessing import MinMaxScaler\n",
        "scaler= MinMaxScaler()"
      ],
      "execution_count": null,
      "outputs": []
    },
    {
      "cell_type": "code",
      "source": [
        ""
      ],
      "metadata": {
        "id": "TTl0OdG2g5bM"
      },
      "execution_count": null,
      "outputs": []
    },
    {
      "cell_type": "code",
      "metadata": {
        "id": "QR-sqbma4BdQ"
      },
      "source": [
        "#dataset path address=>> \n",
        "\n",
        "test_image_T1= nib.load(\"\").get_fdata()\n",
        "print(test_image_T1.max())\n",
        "test_image_T1= scaler.fit_transform(test_image_T1.reshape(-1, test_image_T1.shape[-1])).reshape(test_image_T1.shape)\n",
        "\n",
        "test_image_T1ce= nib.load(\"\").get_fdata()\n",
        "print(test_image_T1ce.max())\n",
        "test_image_T1ce= scaler.fit_transform(test_image_T1ce.reshape(-1, test_image_T1ce.shape[-1])).reshape(test_image_T1ce.shape)\n",
        "\n",
        "test_image_T2= nib.load(\"\").get_fdata()\n",
        "print(test_image_T2.max())\n",
        "test_image_T2= scaler.fit_transform(test_image_T2.reshape(-1, test_image_T2.shape[-1])).reshape(test_image_T2.shape)\n",
        "\n",
        "test_image_flair= nib.load(\"\").get_fdata()\n",
        "print(test_image_flair.max())\n",
        "test_image_flair= scaler.fit_transform(test_image_flair.reshape(-1, test_image_flair.shape[-1])).reshape(test_image_flair.shape)\n",
        "\n",
        "test_mask= nib.load(\"\").get_fdata()\n",
        "test_mask= test_mask.astype(np.uint8)\n",
        "print(np.unique(test_mask))\n",
        "\n",
        "test_mask[test_mask == 4]= 3\n",
        "print(np.unique(test_mask))\n"
      ],
      "execution_count": null,
      "outputs": []
    },
    {
      "cell_type": "code",
      "metadata": {
        "id": "Ctujct_8D4Ce"
      },
      "source": [
        ""
      ],
      "execution_count": null,
      "outputs": []
    },
    {
      "cell_type": "code",
      "metadata": {
        "id": "kSLJjt_w_xFM"
      },
      "source": [
        "import random\n",
        "n_slice= random.randint(0, test_mask.shape[2])\n",
        "plt.figure(figsize= (12, 8))\n",
        "\n",
        "plt.subplot(231)\n",
        "plt.imshow(test_image_T1[:,:,n_slice], cmap='gray')\n",
        "plt.title('Image T1')\n",
        "\n",
        "plt.subplot(232)\n",
        "plt.imshow(test_image_T1ce[:,:,n_slice], cmap='gray')\n",
        "plt.title('Image T1ce')\n",
        "\n",
        "plt.subplot(233)\n",
        "plt.imshow(test_image_T2[:,:,n_slice], cmap='gray')\n",
        "plt.title('Image T2')\n",
        "\n",
        "plt.subplot(234)\n",
        "plt.imshow(test_image_flair[:,:,n_slice], cmap='gray')\n",
        "plt.title('Image flair')\n",
        "\n",
        "plt.subplot(235)\n",
        "plt.imshow(test_mask[:,:,n_slice])\n",
        "plt.title('Mask')\n",
        "\n",
        "plt.show()"
      ],
      "execution_count": null,
      "outputs": []
    },
    {
      "cell_type": "code",
      "metadata": {
        "id": "Rby2nPJKFQ-1"
      },
      "source": [
        ""
      ],
      "execution_count": null,
      "outputs": []
    }
  ]
}